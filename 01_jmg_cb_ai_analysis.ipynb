{
 "cells": [
  {
   "cell_type": "markdown",
   "metadata": {},
   "source": [
    "# CrunchBase exploratory analysis\n",
    "\n",
    "This notebook explores CrunchBase data to analyse the distribution of AI companies by sector. It will also be helpful for our collaborative MSc supervision with the Bank of England.\n",
    "\n",
    "**Tasks**\n",
    "\n",
    "1. Load data\n",
    "2. Identify a suitable sectoral category\n",
    "3. Flag AI companies\n",
    "4. Study AI distribution by sector:\n",
    "  * Question: Is there an AI gap? And is it growing or becoming smaller\n",
    "5. Compare with sic codes?\n",
    "6. Close\n"
   ]
  },
  {
   "cell_type": "markdown",
   "metadata": {},
   "source": [
    "## Preamble"
   ]
  },
  {
   "cell_type": "code",
   "execution_count": 41,
   "metadata": {},
   "outputs": [],
   "source": [
    "#Basic imports\n",
    "import pandas as pd\n",
    "import numpy as np\n",
    "from data_getters.core import get_engine\n",
    "from data_getters.inspector import get_schemas\n",
    "from random import sample\n",
    "\n",
    "\n",
    "import matplotlib.pyplot as plt\n",
    "\n",
    "today_str = str(datetime.date.today())"
   ]
  },
  {
   "cell_type": "code",
   "execution_count": 3,
   "metadata": {},
   "outputs": [],
   "source": [
    "#We create this type to deal with some Nones later\n",
    "NoneType = type(None)"
   ]
  },
  {
   "cell_type": "markdown",
   "metadata": {},
   "source": [
    "## Load data"
   ]
  },
  {
   "cell_type": "code",
   "execution_count": 4,
   "metadata": {},
   "outputs": [
    {
     "name": "stderr",
     "output_type": "stream",
     "text": [
      "/Users/jmateosgarcia/miniconda3/envs/tmppy36/lib/python3.6/site-packages/pymysql/cursors.py:166: Warning: (1287, \"'@@tx_isolation' is deprecated and will be removed in a future release. Please use '@@transaction_isolation' instead\")\n",
      "  result = self._query(query)\n"
     ]
    }
   ],
   "source": [
    "#Connection to the database\n",
    "\n",
    "con = get_engine(\"mysqldb_team.config\")\n",
    "\n",
    "#Read organisations\n",
    "comps_chunks = pd.read_sql_table('crunchbase_organizations', con, chunksize=1000)\n",
    "\n",
    "#Read categories\n",
    "cats_chunks = pd.read_sql_table('crunchbase_organizations_categories', con, chunksize=1000)\n",
    "\n",
    "#Concatenate the chunks into dfs\n",
    "comps, cats = [pd.concat(x).reset_index(drop=True) for x in [comps_chunks,cats_chunks]]\n",
    "#descr_short, descr_long = [comps[v].apply(lambda x: x.lower() if type(x)==str else np.nan) for v in ['short_description','long_description']]"
   ]
  },
  {
   "cell_type": "code",
   "execution_count": 5,
   "metadata": {},
   "outputs": [
    {
     "name": "stdout",
     "output_type": "stream",
     "text": [
      "769091\n",
      "1783860\n",
      "709668\n"
     ]
    }
   ],
   "source": [
    "print(len(comps))\n",
    "\n",
    "print(len(cats))\n",
    "\n",
    "print(len(set(cats['organization_id'])))"
   ]
  },
  {
   "cell_type": "markdown",
   "metadata": {},
   "source": [
    "There are around 600,000K organisations without categories\n",
    "\n"
   ]
  },
  {
   "cell_type": "code",
   "execution_count": 6,
   "metadata": {},
   "outputs": [
    {
     "data": {
      "text/html": [
       "<div>\n",
       "<style>\n",
       "    .dataframe thead tr:only-child th {\n",
       "        text-align: right;\n",
       "    }\n",
       "\n",
       "    .dataframe thead th {\n",
       "        text-align: left;\n",
       "    }\n",
       "\n",
       "    .dataframe tbody tr th {\n",
       "        vertical-align: top;\n",
       "    }\n",
       "</style>\n",
       "<table border=\"1\" class=\"dataframe\">\n",
       "  <thead>\n",
       "    <tr style=\"text-align: right;\">\n",
       "      <th></th>\n",
       "      <th>id</th>\n",
       "      <th>company_name</th>\n",
       "      <th>roles</th>\n",
       "      <th>permalink</th>\n",
       "      <th>domain</th>\n",
       "      <th>homepage_url</th>\n",
       "      <th>country</th>\n",
       "      <th>state_code</th>\n",
       "      <th>region</th>\n",
       "      <th>city</th>\n",
       "      <th>...</th>\n",
       "      <th>twitter_url</th>\n",
       "      <th>aliases</th>\n",
       "      <th>created_at</th>\n",
       "      <th>updated_at</th>\n",
       "      <th>primary_role</th>\n",
       "      <th>type</th>\n",
       "      <th>long_description</th>\n",
       "      <th>parent_id</th>\n",
       "      <th>is_health</th>\n",
       "      <th>mesh_terms</th>\n",
       "    </tr>\n",
       "  </thead>\n",
       "  <tbody>\n",
       "    <tr>\n",
       "      <th>0</th>\n",
       "      <td>00000aa4-ba42-9b68-a9c3-040c9f3bf9b9</td>\n",
       "      <td>Formel D GmbH</td>\n",
       "      <td>company</td>\n",
       "      <td>/organization/formel-d-gmbh</td>\n",
       "      <td>formeld.com</td>\n",
       "      <td>http://www.formeld.com</td>\n",
       "      <td>Germany</td>\n",
       "      <td>None</td>\n",
       "      <td>DEU - Other</td>\n",
       "      <td>Troisdorf</td>\n",
       "      <td>...</td>\n",
       "      <td>https://www.twitter.com/formeld_es</td>\n",
       "      <td>None</td>\n",
       "      <td>2016-06-01 06:58:37</td>\n",
       "      <td>2018-10-26 22:19:19</td>\n",
       "      <td>company</td>\n",
       "      <td>organization</td>\n",
       "      <td>Formel D GmbH is a automotive manufacturer and...</td>\n",
       "      <td>None</td>\n",
       "      <td>0</td>\n",
       "      <td>None</td>\n",
       "    </tr>\n",
       "    <tr>\n",
       "      <th>1</th>\n",
       "      <td>000014da-0c46-b9cb-0941-3a93c027b119</td>\n",
       "      <td>Resilio</td>\n",
       "      <td>company</td>\n",
       "      <td>/organization/resiliohq</td>\n",
       "      <td>resiliohq.com</td>\n",
       "      <td>http://www.resiliohq.com</td>\n",
       "      <td>Denmark</td>\n",
       "      <td>None</td>\n",
       "      <td>None</td>\n",
       "      <td>Aarhus</td>\n",
       "      <td>...</td>\n",
       "      <td>https://twitter.com/andersresilio</td>\n",
       "      <td>None</td>\n",
       "      <td>2017-05-03 20:09:32</td>\n",
       "      <td>2018-10-26 23:15:32</td>\n",
       "      <td>company</td>\n",
       "      <td>organization</td>\n",
       "      <td>By combining state of the art signal processin...</td>\n",
       "      <td>None</td>\n",
       "      <td>1</td>\n",
       "      <td>Games, Recreational|Signal Processing, Compute...</td>\n",
       "    </tr>\n",
       "    <tr>\n",
       "      <th>2</th>\n",
       "      <td>00001b2d-a4f7-55d5-d69a-17acbac9c17b</td>\n",
       "      <td>STD Risk Calculator</td>\n",
       "      <td>company</td>\n",
       "      <td>/organization/std-risk-calculator</td>\n",
       "      <td>stdriskcalculator.com</td>\n",
       "      <td>http://www.stdriskcalculator.com</td>\n",
       "      <td>None</td>\n",
       "      <td>None</td>\n",
       "      <td>None</td>\n",
       "      <td>None</td>\n",
       "      <td>...</td>\n",
       "      <td>http://twitter.com/STDRisk</td>\n",
       "      <td>None</td>\n",
       "      <td>2012-03-18 06:23:27</td>\n",
       "      <td>2018-10-26 23:30:24</td>\n",
       "      <td>company</td>\n",
       "      <td>organization</td>\n",
       "      <td>STD Risk Calculator is a company dedicated to ...</td>\n",
       "      <td>None</td>\n",
       "      <td>1</td>\n",
       "      <td>Gonorrhea|Syphilis|Sexual Health|Sexually Tran...</td>\n",
       "    </tr>\n",
       "    <tr>\n",
       "      <th>3</th>\n",
       "      <td>00001dba-e22c-2285-55ee-352a8b087a04</td>\n",
       "      <td>Buy Man Things</td>\n",
       "      <td>company</td>\n",
       "      <td>/organization/buy-man-things</td>\n",
       "      <td>buymanthings.com</td>\n",
       "      <td>http://buymanthings.com</td>\n",
       "      <td>None</td>\n",
       "      <td>None</td>\n",
       "      <td>None</td>\n",
       "      <td>None</td>\n",
       "      <td>...</td>\n",
       "      <td>http://twitter.com/buymanthings</td>\n",
       "      <td>None</td>\n",
       "      <td>2013-08-10 00:59:51</td>\n",
       "      <td>2018-10-26 21:45:19</td>\n",
       "      <td>company</td>\n",
       "      <td>organization</td>\n",
       "      <td>Buy Man Things is an online men's magazine fea...</td>\n",
       "      <td>None</td>\n",
       "      <td>0</td>\n",
       "      <td>None</td>\n",
       "    </tr>\n",
       "    <tr>\n",
       "      <th>4</th>\n",
       "      <td>0000221d-6dfd-a049-dcfc-b4a5ca3b0fe7</td>\n",
       "      <td>Stabil Capital Management</td>\n",
       "      <td>company</td>\n",
       "      <td>/organization/stabil-capital-management</td>\n",
       "      <td>None</td>\n",
       "      <td>None</td>\n",
       "      <td>None</td>\n",
       "      <td>None</td>\n",
       "      <td>None</td>\n",
       "      <td>None</td>\n",
       "      <td>...</td>\n",
       "      <td>None</td>\n",
       "      <td>None</td>\n",
       "      <td>2016-10-03 16:35:46</td>\n",
       "      <td>2018-02-12 23:47:40</td>\n",
       "      <td>company</td>\n",
       "      <td>organization</td>\n",
       "      <td>None</td>\n",
       "      <td>None</td>\n",
       "      <td>0</td>\n",
       "      <td>None</td>\n",
       "    </tr>\n",
       "  </tbody>\n",
       "</table>\n",
       "<p>5 rows × 36 columns</p>\n",
       "</div>"
      ],
      "text/plain": [
       "                                     id               company_name    roles  \\\n",
       "0  00000aa4-ba42-9b68-a9c3-040c9f3bf9b9              Formel D GmbH  company   \n",
       "1  000014da-0c46-b9cb-0941-3a93c027b119                    Resilio  company   \n",
       "2  00001b2d-a4f7-55d5-d69a-17acbac9c17b        STD Risk Calculator  company   \n",
       "3  00001dba-e22c-2285-55ee-352a8b087a04             Buy Man Things  company   \n",
       "4  0000221d-6dfd-a049-dcfc-b4a5ca3b0fe7  Stabil Capital Management  company   \n",
       "\n",
       "                                 permalink                 domain  \\\n",
       "0              /organization/formel-d-gmbh            formeld.com   \n",
       "1                  /organization/resiliohq          resiliohq.com   \n",
       "2        /organization/std-risk-calculator  stdriskcalculator.com   \n",
       "3             /organization/buy-man-things       buymanthings.com   \n",
       "4  /organization/stabil-capital-management                   None   \n",
       "\n",
       "                       homepage_url  country state_code       region  \\\n",
       "0            http://www.formeld.com  Germany       None  DEU - Other   \n",
       "1          http://www.resiliohq.com  Denmark       None         None   \n",
       "2  http://www.stdriskcalculator.com     None       None         None   \n",
       "3           http://buymanthings.com     None       None         None   \n",
       "4                              None     None       None         None   \n",
       "\n",
       "        city                        ...                          \\\n",
       "0  Troisdorf                        ...                           \n",
       "1     Aarhus                        ...                           \n",
       "2       None                        ...                           \n",
       "3       None                        ...                           \n",
       "4       None                        ...                           \n",
       "\n",
       "                          twitter_url aliases          created_at  \\\n",
       "0  https://www.twitter.com/formeld_es    None 2016-06-01 06:58:37   \n",
       "1   https://twitter.com/andersresilio    None 2017-05-03 20:09:32   \n",
       "2          http://twitter.com/STDRisk    None 2012-03-18 06:23:27   \n",
       "3     http://twitter.com/buymanthings    None 2013-08-10 00:59:51   \n",
       "4                                None    None 2016-10-03 16:35:46   \n",
       "\n",
       "           updated_at  primary_role          type  \\\n",
       "0 2018-10-26 22:19:19       company  organization   \n",
       "1 2018-10-26 23:15:32       company  organization   \n",
       "2 2018-10-26 23:30:24       company  organization   \n",
       "3 2018-10-26 21:45:19       company  organization   \n",
       "4 2018-02-12 23:47:40       company  organization   \n",
       "\n",
       "                                    long_description parent_id is_health  \\\n",
       "0  Formel D GmbH is a automotive manufacturer and...      None         0   \n",
       "1  By combining state of the art signal processin...      None         1   \n",
       "2  STD Risk Calculator is a company dedicated to ...      None         1   \n",
       "3  Buy Man Things is an online men's magazine fea...      None         0   \n",
       "4                                               None      None         0   \n",
       "\n",
       "                                          mesh_terms  \n",
       "0                                               None  \n",
       "1  Games, Recreational|Signal Processing, Compute...  \n",
       "2  Gonorrhea|Syphilis|Sexual Health|Sexually Tran...  \n",
       "3                                               None  \n",
       "4                                               None  \n",
       "\n",
       "[5 rows x 36 columns]"
      ]
     },
     "execution_count": 6,
     "metadata": {},
     "output_type": "execute_result"
    }
   ],
   "source": [
    "comps.head()"
   ]
  },
  {
   "cell_type": "code",
   "execution_count": 7,
   "metadata": {},
   "outputs": [
    {
     "data": {
      "text/html": [
       "<div>\n",
       "<style>\n",
       "    .dataframe thead tr:only-child th {\n",
       "        text-align: right;\n",
       "    }\n",
       "\n",
       "    .dataframe thead th {\n",
       "        text-align: left;\n",
       "    }\n",
       "\n",
       "    .dataframe tbody tr th {\n",
       "        vertical-align: top;\n",
       "    }\n",
       "</style>\n",
       "<table border=\"1\" class=\"dataframe\">\n",
       "  <thead>\n",
       "    <tr style=\"text-align: right;\">\n",
       "      <th></th>\n",
       "      <th>organization_id</th>\n",
       "      <th>category_name</th>\n",
       "    </tr>\n",
       "  </thead>\n",
       "  <tbody>\n",
       "    <tr>\n",
       "      <th>0</th>\n",
       "      <td>00000aa4-ba42-9b68-a9c3-040c9f3bf9b9</td>\n",
       "      <td>automotive</td>\n",
       "    </tr>\n",
       "    <tr>\n",
       "      <th>1</th>\n",
       "      <td>00000aa4-ba42-9b68-a9c3-040c9f3bf9b9</td>\n",
       "      <td>manufacturing</td>\n",
       "    </tr>\n",
       "    <tr>\n",
       "      <th>2</th>\n",
       "      <td>000014da-0c46-b9cb-0941-3a93c027b119</td>\n",
       "      <td>education</td>\n",
       "    </tr>\n",
       "    <tr>\n",
       "      <th>3</th>\n",
       "      <td>000014da-0c46-b9cb-0941-3a93c027b119</td>\n",
       "      <td>health care</td>\n",
       "    </tr>\n",
       "    <tr>\n",
       "      <th>4</th>\n",
       "      <td>00001b2d-a4f7-55d5-d69a-17acbac9c17b</td>\n",
       "      <td>biotechnology</td>\n",
       "    </tr>\n",
       "  </tbody>\n",
       "</table>\n",
       "</div>"
      ],
      "text/plain": [
       "                        organization_id  category_name\n",
       "0  00000aa4-ba42-9b68-a9c3-040c9f3bf9b9     automotive\n",
       "1  00000aa4-ba42-9b68-a9c3-040c9f3bf9b9  manufacturing\n",
       "2  000014da-0c46-b9cb-0941-3a93c027b119      education\n",
       "3  000014da-0c46-b9cb-0941-3a93c027b119    health care\n",
       "4  00001b2d-a4f7-55d5-d69a-17acbac9c17b  biotechnology"
      ]
     },
     "execution_count": 7,
     "metadata": {},
     "output_type": "execute_result"
    }
   ],
   "source": [
    "cats.head()"
   ]
  },
  {
   "cell_type": "markdown",
   "metadata": {},
   "source": [
    "## Slight data processing"
   ]
  },
  {
   "cell_type": "code",
   "execution_count": 8,
   "metadata": {},
   "outputs": [],
   "source": [
    "#Merge organisations and categories\n",
    "\n",
    "#We reset the index because you can't merge series\n",
    "cats_grouped = cats.groupby('organization_id')['category_name'].apply(lambda x: list(x)).reset_index(drop=False)\n",
    "\n",
    "#This gives us a dataframe with a new field with the list of categories for the organisation\n",
    "comps_cats = pd.merge(comps,cats_grouped,left_on='id',right_on='organization_id')"
   ]
  },
  {
   "cell_type": "code",
   "execution_count": 9,
   "metadata": {},
   "outputs": [
    {
     "data": {
      "text/plain": [
       "(709244, 38)"
      ]
     },
     "execution_count": 9,
     "metadata": {},
     "output_type": "execute_result"
    }
   ],
   "source": [
    "comps_cats.shape"
   ]
  },
  {
   "cell_type": "markdown",
   "metadata": {},
   "source": [
    "This is as expected given the length of dfs above (there seems to be a small number of organisations in the `cat` df not included in the `comps` df but we can worry about that a bit later."
   ]
  },
  {
   "cell_type": "code",
   "execution_count": 10,
   "metadata": {},
   "outputs": [
    {
     "data": {
      "text/plain": [
       "(691385, 38)"
      ]
     },
     "execution_count": 10,
     "metadata": {},
     "output_type": "execute_result"
    }
   ],
   "source": [
    "#Subset to focus on company entities.\n",
    "#There are some missing values in roles, which we would also drop (Note the False in the control flow)\n",
    "\n",
    "comps_cats = comps_cats.loc[['company' in x if type(x)!=NoneType else False for x in comps_cats['roles']]]\n",
    "\n",
    "comps_cats.shape"
   ]
  },
  {
   "cell_type": "markdown",
   "metadata": {},
   "source": [
    "### Identify 'AI' companies"
   ]
  },
  {
   "cell_type": "code",
   "execution_count": 11,
   "metadata": {},
   "outputs": [],
   "source": [
    "#Find AI companies based on text description or the AI category\n",
    "\n",
    "#These are the terms we use for now. TODO: expand these using semantic similarities\n",
    "ai_terms = ['data science','machine learning', 'deep learning','artificial intelligence','neural network', ' ai ','natural language processing','text mining']\n",
    "\n",
    "#Lowercase the text\n",
    "comps_cats['long_description'] = comps_cats['long_description'].apply(lambda x: x.lower() if type(x)!=NoneType else np.nan)\n",
    "\n",
    "#Count the number of times that a company mentions AI \n",
    "comps_cats['ai_text_n'] = [sum([term in x for term in ai_terms]) if pd.isnull(x)==False else np.nan for x in comps_cats['long_description']]"
   ]
  },
  {
   "cell_type": "code",
   "execution_count": 12,
   "metadata": {},
   "outputs": [
    {
     "data": {
      "text/plain": [
       "0.0    494737\n",
       "1.0      7703\n",
       "2.0      1912\n",
       "3.0       396\n",
       "4.0        70\n",
       "5.0        17\n",
       "6.0         1\n",
       "Name: ai_text_n, dtype: int64"
      ]
     },
     "execution_count": 12,
     "metadata": {},
     "output_type": "execute_result"
    }
   ],
   "source": [
    "comps_cats['ai_text_n'].value_counts()"
   ]
  },
  {
   "cell_type": "markdown",
   "metadata": {},
   "source": [
    "Most companies that mention AI do this once. Others mention it more often"
   ]
  },
  {
   "cell_type": "code",
   "execution_count": 13,
   "metadata": {},
   "outputs": [
    {
     "name": "stdout",
     "output_type": "stream",
     "text": [
      "lightmatter is an artificial intelligence (ai) hardware company that uses integrated optical technology to create faster and more efficient processors. they accelerate critical operations in deep neural networks using an array of programmable photonic elements fabricated alongside transistors in conventional cmos processes (the same processes used to make cell phone chips). advantages of our optical processing technology include speed of light evaluations as well as low power consumption. by accelerating this core ai operation, they can speed up many of the software algorithms underlying image recognition, natural language processing, and more, thereby facilitating the next generation of ai-powered computing. founded in 2017, the company is headquartered in boston, massachusetts, united states.\n",
      "\n",
      "\n",
      "about us: acer innovation is a global analytics firm with 90+ employees driving roi across diverse industries by leveraging data science. we have an agile team of phd data scientists and seasoned big data analytic experts helping enterprises extract critical value from their data and monetize those insights quickly. we provide cutting-edge forecasting and predictive analytic platforms to deliver real-time insights for tangible business outcomes.  expertise: actionable insights, advanced analytics, alteryx, amazon web services (aws), apache, api's, artificial intelligence, automation, azure machine learning, big data analytics, business analytics, business intelligence, business process improvement, cognitive computing, data visualization, deep learning, emerging technologies, forecasting, gamification, google analytics, google cloud platform, h20.ai, hadoop, ibm watson, innovation, machine learning, management consulting, microsoft power bi, microstrategy, monetization, optimization, pivotal, predictive & prescriptive analytics, python, qlik, r, recommendation systems, salesforce, sas, segmentation, sisense, splunk, spss, sql, ssas, ssis, ssrs, sugarcrm, tableau, tableau server, tibco spotfire, trifacta data wrangler.\n",
      "\n",
      "\n",
      "ople has developed an ai platform that acts, thinks, and learns like a data scientist. its software optimizes the entire data science processes, going from data to predictions in days instead of months. ople delivers elite quality deep learning models deployed instantly and ready to make predictions. at ople, the team believes that artificial intelligence should be easy, cheap and ubiquitous. with ople, business leaders can now think big, broadly applying artificial intelligence across their organization in order to identify new opportunities and establish strategic advantages. centrally located in silicon valley, ople is led by a team of world class data scientists, engineers and market makers. why we exist:  - we believe that every industry can benefit from data science  - we believe data science can be much more than what it is today  - we believe we can fundamentally change data science   today, data science projects are often complicated, time-consuming, and high risk. we believe it doesn't have to be. we built ople to deliver elite-quality, high-performance models in production with a fraction of the time, effort & expertise required to build it yourself. ople's ai has learned the best methodologies employed by elite data scientists through our innovative behavioral assimilation technology.  as a deep-learning system, bass (behavioral assimilation) continues to improve and innovate on these methodologies; rapidly surpassing the limits of these methodologies in human hands.   deliver top quality models in days, not months.  optimize your data science investments now.\n",
      "\n",
      "\n",
      "win fx is a fintech and automated trading & investment service company. offering sophisticated a.i driven automated trading solutions for financial markets. the mission is to simplify investing & empower investors with innovations in financial & machine learning sciences. the artificial intelligence for algorithmic trading formulates winning strategies & rigorous risk management to grow client's wealth. win fx develop sophisticated trading models able to continuously learn and improve using advances in a.i, artificial neural network, machine learning, deep learning, big data, and analytics to minimize client risk and maximize returns.\n",
      "\n",
      "\n",
      "founded in 2017, onesoil is a startup that develops a global ai-based precision farming platform that helps medium and large farms optimize their work. we monitor sown areas, predict and plan farm operations, increase productivity, predict crops, and save resources by using satellite imagery. the companys core technologies are based on artificial intelligence, deep learning models, computer vision, iot and other machine learning algorithms. in november 2017, onesoil received a $500,000 from haxus and bulba ventures funds as a pre-seed round investment. onesoil platform has been developed by a team that consists of passionate professionals in the fields of data science, gis, product design, web developing and project managing with a rich experience in building startups. all of the team members actively participate in product development and want to change the world for the better. onesoil platform is available for android and in browsers.\n",
      "\n",
      "\n"
     ]
    }
   ],
   "source": [
    "#Check a few companies with more than 3 AI mentions to see what they do\n",
    "for x in sample(list(comps_cats.loc[comps_cats['ai_text_n']>3]['long_description']),5):\n",
    "    print(x)\n",
    "    print('\\n')"
   ]
  },
  {
   "cell_type": "code",
   "execution_count": 14,
   "metadata": {},
   "outputs": [
    {
     "data": {
      "text/plain": [
       "10324"
      ]
     },
     "execution_count": 14,
     "metadata": {},
     "output_type": "execute_result"
    }
   ],
   "source": [
    "#Now we check AI in categories. Note there might be other relevant categories in the data but we will not do this for now\n",
    "comps_cats['ai_cats'] = ['artificial intelligence' in c for c in comps_cats['category_name']]\n",
    "\n",
    "comps_cats['ai_cats'].sum()"
   ]
  },
  {
   "cell_type": "code",
   "execution_count": 15,
   "metadata": {},
   "outputs": [
    {
     "data": {
      "text/html": [
       "<div>\n",
       "<style>\n",
       "    .dataframe thead tr:only-child th {\n",
       "        text-align: right;\n",
       "    }\n",
       "\n",
       "    .dataframe thead th {\n",
       "        text-align: left;\n",
       "    }\n",
       "\n",
       "    .dataframe tbody tr th {\n",
       "        vertical-align: top;\n",
       "    }\n",
       "</style>\n",
       "<table border=\"1\" class=\"dataframe\">\n",
       "  <thead>\n",
       "    <tr style=\"text-align: right;\">\n",
       "      <th>ai_cats</th>\n",
       "      <th>False</th>\n",
       "      <th>True</th>\n",
       "      <th>text_share</th>\n",
       "    </tr>\n",
       "    <tr>\n",
       "      <th>ai_text_n</th>\n",
       "      <th></th>\n",
       "      <th></th>\n",
       "      <th></th>\n",
       "    </tr>\n",
       "  </thead>\n",
       "  <tbody>\n",
       "    <tr>\n",
       "      <th>0.0</th>\n",
       "      <td>491030</td>\n",
       "      <td>3707</td>\n",
       "      <td>0.749287</td>\n",
       "    </tr>\n",
       "    <tr>\n",
       "      <th>1.0</th>\n",
       "      <td>4634</td>\n",
       "      <td>3069</td>\n",
       "      <td>39.841620</td>\n",
       "    </tr>\n",
       "    <tr>\n",
       "      <th>2.0</th>\n",
       "      <td>804</td>\n",
       "      <td>1108</td>\n",
       "      <td>57.949791</td>\n",
       "    </tr>\n",
       "    <tr>\n",
       "      <th>3.0</th>\n",
       "      <td>130</td>\n",
       "      <td>266</td>\n",
       "      <td>67.171717</td>\n",
       "    </tr>\n",
       "    <tr>\n",
       "      <th>4.0</th>\n",
       "      <td>8</td>\n",
       "      <td>62</td>\n",
       "      <td>88.571429</td>\n",
       "    </tr>\n",
       "    <tr>\n",
       "      <th>5.0</th>\n",
       "      <td>3</td>\n",
       "      <td>14</td>\n",
       "      <td>82.352941</td>\n",
       "    </tr>\n",
       "    <tr>\n",
       "      <th>6.0</th>\n",
       "      <td>0</td>\n",
       "      <td>1</td>\n",
       "      <td>100.000000</td>\n",
       "    </tr>\n",
       "  </tbody>\n",
       "</table>\n",
       "</div>"
      ],
      "text/plain": [
       "ai_cats     False  True  text_share\n",
       "ai_text_n                          \n",
       "0.0        491030  3707    0.749287\n",
       "1.0          4634  3069   39.841620\n",
       "2.0           804  1108   57.949791\n",
       "3.0           130   266   67.171717\n",
       "4.0             8    62   88.571429\n",
       "5.0             3    14   82.352941\n",
       "6.0             0     1  100.000000"
      ]
     },
     "execution_count": 15,
     "metadata": {},
     "output_type": "execute_result"
    }
   ],
   "source": [
    "#What is the overlap between companies with AI categories and AI relateed text in the description?\n",
    "comp_cats_frequences = pd.crosstab(comps_cats['ai_text_n'],comps_cats['ai_cats'])\n",
    "\n",
    "#What is the distribution of companies that mention AI various times over the share of companies with AI in their category?\n",
    "comp_cats_frequences['text_share'] = 100*comp_cats_frequences[True]/comp_cats_frequences.sum(axis=1)\n",
    "\n",
    "comp_cats_frequences"
   ]
  },
  {
   "cell_type": "markdown",
   "metadata": {},
   "source": [
    "Around a third of companies with AI in their categories don't mention AI related terms in their descriptions.\n",
    "There are quite a few companies that mention AI repeatedly but don't have an AI category."
   ]
  },
  {
   "cell_type": "code",
   "execution_count": 16,
   "metadata": {},
   "outputs": [
    {
     "name": "stdout",
     "output_type": "stream",
     "text": [
      "webzsuite.com is a unique, one-stop, easy to use, business-oriented cloud-based applications suite for commercial website owners. webzsuite is providing revolutionary analytics, audits, metrics, competition research tools, marketing management, domain and hosting vaults and much more. \n",
      "\n",
      "\n",
      "organizationview is a pioneering people analytics practice. it's main product, workometry, lets clients replace employee surveys with open questions. workometry uses proprietary text analytics to analyse the thousands of multi-language responses providing new and deep insight that promotes action.\n",
      "\n",
      "\n",
      "hioperator is a virtual assistant that answers phone calls, chats with customers, provides in-app help, takes orders, and provides support. the companys solution portfolio includes brand messaging, e-commerce ordering, product support, call screening, and customer analytics.  hioperators system can be integrated with a businesses current systems and is staffed by american opertors. hioperator was launched by phil salesses and elizabeth tsai in may 2016 and is based in san francisco, california.\n",
      "\n",
      "\n",
      "techcyte is a cloud-based, saas provider that combines digital pathology tools with powerful image-analysis and deep-learning technology to assist pathologists, allowing them to work faster, more efficiently, and more accurately than has been previously possible. techcyte serves the cellular digital pathology industry for human and veterinary medicine, and air quality control laboratories and testing centers.\n",
      "\n",
      "\n",
      "scholr is an online educational service that provides its users with personalized learning experiences. it answers problems ranging from mathematical expressions to word problems from all the cbse textbooks of mathematics and science. scholr was launched by himanshu nimje and manil gupta in 2015. it is operated from mumbai, maharashtra.\n",
      "\n",
      "\n"
     ]
    }
   ],
   "source": [
    "# Quick check of company descriptions for companies that have AI cats but no AI Terms\n",
    "\n",
    "#Check a few companies with more than 3 AI mentions to see what they do\n",
    "for x in sample(list(comps_cats.loc[(comps_cats['ai_text_n']==0)&(comps_cats['ai_cats']==True)]['long_description']),5):\n",
    "    print(x)\n",
    "    print('\\n')\n"
   ]
  },
  {
   "cell_type": "markdown",
   "metadata": {},
   "source": [
    "The companies that have ai categories but no ai related terms in their description look quite noisy. Let's exclude them from the analysis for now"
   ]
  },
  {
   "cell_type": "code",
   "execution_count": 17,
   "metadata": {},
   "outputs": [],
   "source": [
    "#Flag as AI companies with at least one AI term in their description. Later we could change this threshold\n",
    "comps_cats['ai_flag'] = comps_cats['ai_text_n']>0"
   ]
  },
  {
   "cell_type": "markdown",
   "metadata": {},
   "source": [
    "### A couple of descriptive analyses"
   ]
  },
  {
   "cell_type": "markdown",
   "metadata": {},
   "source": [
    "#### Evolution"
   ]
  },
  {
   "cell_type": "code",
   "execution_count": 18,
   "metadata": {},
   "outputs": [],
   "source": [
    "#We need to create a year variable (founded on is currently a date)\n",
    " \n",
    "comps_cats['founded_year'] = [x.year if type(x)!=NoneType else np.nan for x in comps_cats['founded_on']]"
   ]
  },
  {
   "cell_type": "code",
   "execution_count": 19,
   "metadata": {},
   "outputs": [
    {
     "data": {
      "text/plain": [
       "(2000, 2018)"
      ]
     },
     "execution_count": 19,
     "metadata": {},
     "output_type": "execute_result"
    },
    {
     "data": {
      "image/png": "[encoded data removed]",
      "text/plain": [
       "<Figure size 432x288 with 1 Axes>"
      ]
     },
     "metadata": {
      "needs_background": "light"
     },
     "output_type": "display_data"
    }
   ],
   "source": [
    "fig,ax = plt.subplots()\n",
    "\n",
    "(100*pd.crosstab(comps_cats['founded_year'],comps_cats['ai_flag'],normalize=1)).plot(ax=ax,title='Year share of activity')\n",
    "\n",
    "ax.set_xlim(2000,2018)\n"
   ]
  },
  {
   "cell_type": "markdown",
   "metadata": {},
   "source": [
    "Very interesting: explosion of AI startup activity while startup activity in general slows-up. What else could be explaining this? China's entry?"
   ]
  },
  {
   "cell_type": "markdown",
   "metadata": {},
   "source": [
    "#### Geography"
   ]
  },
  {
   "cell_type": "code",
   "execution_count": 20,
   "metadata": {},
   "outputs": [
    {
     "data": {
      "text/html": [
       "<div>\n",
       "<style>\n",
       "    .dataframe thead tr:only-child th {\n",
       "        text-align: right;\n",
       "    }\n",
       "\n",
       "    .dataframe thead th {\n",
       "        text-align: left;\n",
       "    }\n",
       "\n",
       "    .dataframe tbody tr th {\n",
       "        vertical-align: top;\n",
       "    }\n",
       "</style>\n",
       "<table border=\"1\" class=\"dataframe\">\n",
       "  <thead>\n",
       "    <tr style=\"text-align: right;\">\n",
       "      <th>ai_flag</th>\n",
       "      <th>False</th>\n",
       "      <th>True</th>\n",
       "    </tr>\n",
       "    <tr>\n",
       "      <th>country</th>\n",
       "      <th></th>\n",
       "      <th></th>\n",
       "    </tr>\n",
       "  </thead>\n",
       "  <tbody>\n",
       "    <tr>\n",
       "      <th>United States</th>\n",
       "      <td>238113</td>\n",
       "      <td>3936</td>\n",
       "    </tr>\n",
       "    <tr>\n",
       "      <th>United Kingdom</th>\n",
       "      <td>42770</td>\n",
       "      <td>814</td>\n",
       "    </tr>\n",
       "    <tr>\n",
       "      <th>India</th>\n",
       "      <td>24739</td>\n",
       "      <td>452</td>\n",
       "    </tr>\n",
       "    <tr>\n",
       "      <th>Canada</th>\n",
       "      <td>19939</td>\n",
       "      <td>346</td>\n",
       "    </tr>\n",
       "    <tr>\n",
       "      <th>China</th>\n",
       "      <td>10149</td>\n",
       "      <td>307</td>\n",
       "    </tr>\n",
       "    <tr>\n",
       "      <th>Germany</th>\n",
       "      <td>13497</td>\n",
       "      <td>277</td>\n",
       "    </tr>\n",
       "    <tr>\n",
       "      <th>Israel</th>\n",
       "      <td>5038</td>\n",
       "      <td>269</td>\n",
       "    </tr>\n",
       "    <tr>\n",
       "      <th>France</th>\n",
       "      <td>12281</td>\n",
       "      <td>215</td>\n",
       "    </tr>\n",
       "    <tr>\n",
       "      <th>Brazil</th>\n",
       "      <td>9270</td>\n",
       "      <td>186</td>\n",
       "    </tr>\n",
       "    <tr>\n",
       "      <th>Spain</th>\n",
       "      <td>9000</td>\n",
       "      <td>161</td>\n",
       "    </tr>\n",
       "    <tr>\n",
       "      <th>Singapore</th>\n",
       "      <td>3715</td>\n",
       "      <td>150</td>\n",
       "    </tr>\n",
       "    <tr>\n",
       "      <th>Australia</th>\n",
       "      <td>10846</td>\n",
       "      <td>138</td>\n",
       "    </tr>\n",
       "    <tr>\n",
       "      <th>Switzerland</th>\n",
       "      <td>5632</td>\n",
       "      <td>124</td>\n",
       "    </tr>\n",
       "    <tr>\n",
       "      <th>Italy</th>\n",
       "      <td>4597</td>\n",
       "      <td>114</td>\n",
       "    </tr>\n",
       "    <tr>\n",
       "      <th>Netherlands</th>\n",
       "      <td>6570</td>\n",
       "      <td>100</td>\n",
       "    </tr>\n",
       "    <tr>\n",
       "      <th>Hong Kong</th>\n",
       "      <td>2853</td>\n",
       "      <td>89</td>\n",
       "    </tr>\n",
       "    <tr>\n",
       "      <th>Sweden</th>\n",
       "      <td>4805</td>\n",
       "      <td>79</td>\n",
       "    </tr>\n",
       "    <tr>\n",
       "      <th>Finland</th>\n",
       "      <td>3141</td>\n",
       "      <td>59</td>\n",
       "    </tr>\n",
       "    <tr>\n",
       "      <th>Poland</th>\n",
       "      <td>2292</td>\n",
       "      <td>54</td>\n",
       "    </tr>\n",
       "    <tr>\n",
       "      <th>Ireland</th>\n",
       "      <td>4510</td>\n",
       "      <td>53</td>\n",
       "    </tr>\n",
       "  </tbody>\n",
       "</table>\n",
       "</div>"
      ],
      "text/plain": [
       "ai_flag          False  True \n",
       "country                      \n",
       "United States   238113   3936\n",
       "United Kingdom   42770    814\n",
       "India            24739    452\n",
       "Canada           19939    346\n",
       "China            10149    307\n",
       "Germany          13497    277\n",
       "Israel            5038    269\n",
       "France           12281    215\n",
       "Brazil            9270    186\n",
       "Spain             9000    161\n",
       "Singapore         3715    150\n",
       "Australia        10846    138\n",
       "Switzerland       5632    124\n",
       "Italy             4597    114\n",
       "Netherlands       6570    100\n",
       "Hong Kong         2853     89\n",
       "Sweden            4805     79\n",
       "Finland           3141     59\n",
       "Poland            2292     54\n",
       "Ireland           4510     53"
      ]
     },
     "execution_count": 20,
     "metadata": {},
     "output_type": "execute_result"
    }
   ],
   "source": [
    "#Calculate country distribution\n",
    "country_distr = pd.crosstab(comps_cats['country'],comps_cats['ai_flag']).sort_values(True,ascending=False)\n",
    "\n",
    "country_distr[:20]"
   ]
  },
  {
   "cell_type": "markdown",
   "metadata": {},
   "source": [
    "Some of the coverage issues are apparent - relatively limited activity in Japan. And where is China?"
   ]
  },
  {
   "cell_type": "code",
   "execution_count": 21,
   "metadata": {},
   "outputs": [],
   "source": [
    "#Calculate index of comparative advantage\n",
    "country_distr['ai_rca']= (country_distr[True]/country_distr[True].sum())/(country_distr.sum(axis=1)/country_distr.sum(axis=1).sum())"
   ]
  },
  {
   "cell_type": "code",
   "execution_count": 22,
   "metadata": {},
   "outputs": [
    {
     "data": {
      "text/plain": [
       "<matplotlib.axes._subplots.AxesSubplot at 0x17027fac8>"
      ]
     },
     "execution_count": 22,
     "metadata": {},
     "output_type": "execute_result"
    },
    {
     "data": {
      "image/png": "[encoded data removed]",
      "text/plain": [
       "<Figure size 432x288 with 1 Axes>"
      ]
     },
     "metadata": {
      "needs_background": "light"
     },
     "output_type": "display_data"
    }
   ],
   "source": [
    "#Plot RCAs for top 20 countries by level of activity\n",
    "(country_distr[:20]['ai_rca'].sort_values(ascending=False)-1).plot.bar(title='Relative specialisation in AI for top 20 countries')"
   ]
  },
  {
   "cell_type": "markdown",
   "metadata": {},
   "source": [
    "Some results are expected (Israel, Singapore). Others (Canada), not so much."
   ]
  },
  {
   "cell_type": "code",
   "execution_count": 23,
   "metadata": {},
   "outputs": [],
   "source": [
    "#That gnarly pivot gives us the number of ai companies per year and country.\n",
    "ai_country_counts = pd.pivot_table(comps_cats.groupby(['founded_year','country'])['ai_flag'].sum().reset_index(drop=False),index='country',columns='founded_year',values='ai_flag').fillna(0)\n",
    "\n",
    "#We want to focus our visualisation on the top 10 countries by overall activity\n",
    "bigger_countries = ai_country_counts.sum(axis=1).sort_values(ascending=False).index[:15]\n",
    "\n",
    "#Consider share of activity in a given year\n",
    "\n",
    "ai_country_shares = ai_country_counts.apply(lambda x: x/x.sum(),axis=1).fillna(0)"
   ]
  },
  {
   "cell_type": "code",
   "execution_count": 24,
   "metadata": {},
   "outputs": [
    {
     "data": {
      "text/plain": [
       "<matplotlib.legend.Legend at 0x171b16e48>"
      ]
     },
     "execution_count": 24,
     "metadata": {},
     "output_type": "execute_result"
    },
    {
     "data": {
      "image/png": "[encoded data removed]",
      "text/plain": [
       "<Figure size 720x360 with 1 Axes>"
      ]
     },
     "metadata": {
      "needs_background": "light"
     },
     "output_type": "display_data"
    }
   ],
   "source": [
    "fig,ax = plt.subplots()\n",
    "\n",
    "ai_country_shares.loc[bigger_countries].T.rolling(window=3).mean().plot(ax=ax,title='Share of year in Country',figsize=(10,5),cmap='tab20',linewidth=2)\n",
    "\n",
    "ax.set_xlim(2000,2018)\n",
    "ax.legend()"
   ]
  },
  {
   "cell_type": "markdown",
   "metadata": {},
   "source": [
    "Everyone seems to be following a similar patterns perhaps with the exception of Singapore and Switzerland, which seem to be growing faster"
   ]
  },
  {
   "cell_type": "markdown",
   "metadata": {},
   "source": [
    "#### Consider country sizes (TODO)"
   ]
  },
  {
   "cell_type": "markdown",
   "metadata": {},
   "source": [
    "### Cluster sectors"
   ]
  },
  {
   "cell_type": "code",
   "execution_count": 25,
   "metadata": {},
   "outputs": [],
   "source": [
    "from itertools import combinations, product, chain\n",
    "import networkx as nx\n",
    "import community\n",
    "\n",
    "def flatten_list(a_list):\n",
    "    '''\n",
    "    Flattens a list\n",
    "    '''\n",
    "    \n",
    "    return([x for el in a_list for x in el])"
   ]
  },
  {
   "cell_type": "code",
   "execution_count": 26,
   "metadata": {},
   "outputs": [
    {
     "data": {
      "text/html": [
       "<div>\n",
       "<style>\n",
       "    .dataframe thead tr:only-child th {\n",
       "        text-align: right;\n",
       "    }\n",
       "\n",
       "    .dataframe thead th {\n",
       "        text-align: left;\n",
       "    }\n",
       "\n",
       "    .dataframe tbody tr th {\n",
       "        vertical-align: top;\n",
       "    }\n",
       "</style>\n",
       "<table border=\"1\" class=\"dataframe\">\n",
       "  <thead>\n",
       "    <tr style=\"text-align: right;\">\n",
       "      <th></th>\n",
       "      <th>source</th>\n",
       "      <th>target</th>\n",
       "      <th>weight</th>\n",
       "    </tr>\n",
       "  </thead>\n",
       "  <tbody>\n",
       "    <tr>\n",
       "      <th>66019</th>\n",
       "      <td>information technology</td>\n",
       "      <td>software</td>\n",
       "      <td>23687</td>\n",
       "    </tr>\n",
       "    <tr>\n",
       "      <th>44587</th>\n",
       "      <td>e-commerce</td>\n",
       "      <td>internet</td>\n",
       "      <td>14424</td>\n",
       "    </tr>\n",
       "    <tr>\n",
       "      <th>29972</th>\n",
       "      <td>consulting</td>\n",
       "      <td>information technology</td>\n",
       "      <td>13590</td>\n",
       "    </tr>\n",
       "    <tr>\n",
       "      <th>2621</th>\n",
       "      <td>advertising</td>\n",
       "      <td>marketing</td>\n",
       "      <td>12226</td>\n",
       "    </tr>\n",
       "    <tr>\n",
       "      <th>65766</th>\n",
       "      <td>information technology</td>\n",
       "      <td>internet</td>\n",
       "      <td>10562</td>\n",
       "    </tr>\n",
       "    <tr>\n",
       "      <th>60778</th>\n",
       "      <td>health care</td>\n",
       "      <td>medical</td>\n",
       "      <td>9888</td>\n",
       "    </tr>\n",
       "    <tr>\n",
       "      <th>67561</th>\n",
       "      <td>internet</td>\n",
       "      <td>software</td>\n",
       "      <td>9840</td>\n",
       "    </tr>\n",
       "    <tr>\n",
       "      <th>44483</th>\n",
       "      <td>e-commerce</td>\n",
       "      <td>fashion</td>\n",
       "      <td>7228</td>\n",
       "    </tr>\n",
       "    <tr>\n",
       "      <th>65458</th>\n",
       "      <td>information services</td>\n",
       "      <td>information technology</td>\n",
       "      <td>6730</td>\n",
       "    </tr>\n",
       "    <tr>\n",
       "      <th>2581</th>\n",
       "      <td>advertising</td>\n",
       "      <td>internet</td>\n",
       "      <td>6202</td>\n",
       "    </tr>\n",
       "  </tbody>\n",
       "</table>\n",
       "</div>"
      ],
      "text/plain": [
       "                       source                  target  weight\n",
       "66019  information technology                software   23687\n",
       "44587              e-commerce                internet   14424\n",
       "29972              consulting  information technology   13590\n",
       "2621              advertising               marketing   12226\n",
       "65766  information technology                internet   10562\n",
       "60778             health care                 medical    9888\n",
       "67561                internet                software    9840\n",
       "44483              e-commerce                 fashion    7228\n",
       "65458    information services  information technology    6730\n",
       "2581              advertising                internet    6202"
      ]
     },
     "execution_count": 26,
     "metadata": {},
     "output_type": "execute_result"
    }
   ],
   "source": [
    "#Here the idea is to create a proximity matrix based on co-occurrences\n",
    "\n",
    "#Turn co-occurrences into combinations of pairs we can use to construct a similarity matrix\n",
    "sector_combs = flatten_list([sorted(list(combinations(x,2))) for x in comps_cats['category_name']])\n",
    "sector_combs = [x for x in sector_combs if len(x)>0]\n",
    "\n",
    "#Turn the sector combs into an edgelist\n",
    "edge_list = pd.DataFrame(sector_combs,columns=['source','target'])\n",
    "\n",
    "edge_list['weight']=1\n",
    "\n",
    "#Group over edge pairs to aggregate weights\n",
    "edge_list_weighted = edge_list.groupby(['source','target'])['weight'].sum().reset_index(drop=False)\n",
    "\n",
    "edge_list_weighted.sort_values('weight',ascending=False).head(n=10)"
   ]
  },
  {
   "cell_type": "code",
   "execution_count": 27,
   "metadata": {},
   "outputs": [],
   "source": [
    "#Create network and extract communities\n",
    "net = nx.from_pandas_edgelist(edge_list_weighted,edge_attr=True)\n",
    "\n",
    "#We choose a high level of resulution (lower == more finelyu grained)\n",
    "comms = community.best_partition(net,resolution=0.3)"
   ]
  },
  {
   "cell_type": "code",
   "execution_count": 28,
   "metadata": {},
   "outputs": [
    {
     "name": "stdout",
     "output_type": "stream",
     "text": [
      "0\n",
      "====\n",
      "3d printing\t3d technology\tadvanced materials\tcad\tchemical\tchemical engineering\tconsumer electronics\tconsumer goods\telectrical distribution\telectronic design automation (eda)\telectronics\tforestry\tfoundries\tindustrial\tindustrial automation\tindustrial design\tindustrial engineering\tindustrial manufacturing\tlaser\tlighting\tmachinery manufacturing\tmanufacturing\tmechanical design\tmechanical engineering\tnanotechnology\tpackaging services\tpaper manufacturing\tplastics and rubber manufacturing\tproduct design\tsemiconductor\tsensor\ttextiles\ttimber\ttobacco\twood processing\n",
      "1\n",
      "====\n",
      "ad exchange\tad network\tad retargeting\tad server\tad targeting\tadvertising\tadvertising platforms\taffiliate marketing\tdigital signage\tdsp\tlocal advertising\tmarketing\tmobile advertising\toutdoor advertising\tvideo advertising\n",
      "2\n",
      "====\n",
      "aerospace\tcrowdsourcing\tdrone management\tdrones\tgeospatial\tgps\tindoor positioning\tmapping services\tmilitary\tnavigation\trobotics\tspace travel\n",
      "3\n",
      "====\n",
      "agriculture\tagtech\tanimal feed\taquaculture\tbakery\tbrewing\tcatering\tcoffee\tconfectionery\tcooking\tcraft beer\tdelivery\tdelivery service\tdistillery\tfarmers market\tfarming\tfast-moving consumer goods\tfood and beverage\tfood delivery\tfood processing\tfood trucks\tfranchise\tfruit\tgrocery\thorticulture\thydroponics\tlivestock\torganic\torganic food\tpet\trecipes\trestaurants\tsame day delivery\tseafood\tsnack food\tsubscription service\ttea\tvending and concessions\twine and spirits\twinery\n",
      "4\n",
      "====\n",
      "alumni\tcareer planning\tcollege recruiting\temployment\thuman resources\toffice administration\tprofessional networking\trecruiting\tsocial recruiting\tstaffing agency\tvirtual workforce\n",
      "5\n",
      "====\n",
      "analytics\tartificial intelligence\tbig data\tbusiness intelligence\tcomputer vision\tconsumer research\tdata integration\tdata mining\tdata visualization\tdatabase\tfacial recognition\tfield-programmable gate array (fpga)\tgpu\thuman computer interaction\timage recognition\tintelligent systems\tmachine learning\tmarket research\tnatural language processing\tpersonalization\tprediction markets\tpredictive analytics\tquantum computing\tsemantic web\tspeech recognition\ttext analytics\tvirtual assistant\tvisual search\n",
      "6\n",
      "====\n",
      "android\tapp discovery\tapps\tios\tlocation based services\tmacos\tmobile\tmobile apps\twindows phone\n",
      "7\n",
      "====\n",
      "accounting\tangel investment\tapplication specific integrated circuit (asic)\tasset management\tauto insurance\tbanking\tbilling\tbitcoin\tblockchain\tcollection agency\tcommercial insurance\tcommercial lending\tconsumer lending\tcredit\tcredit bureau\tcredit cards\tcrowdfunding\tcryptocurrency\tdebit cards\tdebt collections\temployee benefits\tethereum\tfinance\tfinancial exchanges\tfinancial services\tfintech\tfunding platform\thealth insurance\thedge funds\timpact investing\tinsurance\tinsurtech\tlending\tlife insurance\tmicro lending\tmobile payments\tpayments\tpersonal finance\tproperty insurance\tretirement\trisk management\tstock exchanges\ttrading platform\ttransaction processing\tventure capital\tvirtual currency\twealth management\n",
      "8\n",
      "====\n",
      "animation\tart\taudio\taudiobooks\tblogging platforms\tbroadcasting\tcelebrity\tcomics\tcontent\tcontent creators\tcontent delivery network\tcontent discovery\tcontent syndication\tcontests\tdigital entertainment\tdigital media\tfilm\tfilm distribution\tfilm production\tindependent music\tinternet radio\tjournalism\tmedia and entertainment\tmotion capture\tmusic\tmusic education\tmusic label\tmusic streaming\tmusical instruments\tnews\tperforming arts\tphoto editing\tphoto sharing\tphotography\tpodcast\tpresentations\tprinting\tpublishing\troku\tsocial news\ttheatre\ttv\ttv production\tvideo\tvideo editing\tvideo on demand\tvideo streaming\n",
      "9\n",
      "====\n",
      "architecture\tbuilding maintenance\tbuilding material\tcivil engineering\tcommercial\tcommercial real estate\tconstruction\tcoworking\tdiy\textermination service\tfacilities support services\tfacility management\tfurniture\thome and garden\thome decor\thome improvement\thome renovation\thome services\tinfrastructure\tinterior design\tlandscaping\tleasing\tproperty development\tproperty management\treal estate\treal estate investment\trental\trental property\tresidential\twindows\n",
      "10\n",
      "====\n",
      "association\tcharity\tcivictech\tcommunities\tgovernment\tgovtech\thomeless shelter\thumanitarian\tnon profit\tpolitics\treligion\tsocial assistance\tsocial entrepreneurship\tsocial impact\n",
      "11\n",
      "====\n",
      "augmented reality\tcorrections facilities\tmuseums and historical sites\tsimulation\tvirtual goods\tvirtual reality\tvirtual world\n",
      "12\n",
      "====\n",
      "automotive\tautonomous vehicles\tcar sharing\tcourier service\telectric vehicle\tfleet management\tfreight service\tlast mile transportation\tlimousine service\tlogistics\tmarine transportation\tparking\tpublic transportation\trailroad\trecreational vehicles\tride sharing\tself-storage\tshipping\tshipping broker\tsupply chain management\ttaxi service\ttransportation\twarehousing\n",
      "13\n",
      "====\n",
      "b2b\tb2c\temerging markets\tsmall and medium businesses\n",
      "14\n",
      "====\n",
      "battery\tbiofuel\tbiomass energy\tclean energy\tcleantech\tenergy\tenergy efficiency\tenergy management\tenergy storage\tenvironmental consulting\tenvironmental engineering\tfossil fuels\tfuel\tfuel cell\tgreen building\tgreen consumer goods\tgreentech\tmarine technology\tmineral\tmining\tmining technology\tnatural resources\tnuclear\toil and gas\tpollution control\tports and harbors\tpower grid\tprecious metals\trecycling\trenewable energy\tsolar\tsustainability\twaste management\twater\twater purification\twater transportation\twind energy\n",
      "15\n",
      "====\n",
      "beauty\tcosmetics\tcoupons\te-commerce\te-commerce platforms\teyewear\tfashion\tflowers\tgift\tgift card\tgift exchange\tgift registry\tgroup buying\thandmade\tjewelry\tlifestyle\tlingerie\tlocal shopping\tmade to order\tmen's\tprice comparison\tretail\tretail technology\tshoes\tshopping\tshopping mall\tsocial shopping\twholesale\twomen's\n",
      "16\n",
      "====\n",
      "biometrics\tcloud security\tcompliance\tcyber security\tdarknet\tdrm\te-signature\tfraud detection\thomeland security\tidentity management\tintrusion detection\tnational security\tnetwork security\tpenetration testing\tphysical security\tprivacy\tpublic safety\tsecurity\tspam filtering\n",
      "17\n",
      "====\n",
      "alternative medicine\tassisted living\tbioinformatics\tbiopharma\tbiotechnology\tcannabis\tclinical trials\tcosmetic surgery\tdental\tdiabetes\tdietary supplements\telder care\telderly\telectronic health record (ehr)\temergency medicine\tfertility\tfitness\tgenetics\thealth care\thealth diagnostics\thome health care\thospital\tlife science\tmedical\tmedical device\tmhealth\tneuroscience\tnursing and residential care\tnutraceutical\tnutrition\toutpatient care\tpersonal health\tpharmaceutical\tpsychology\tquantified self\trehabilitation\ttherapeutics\tveterinary\twellness\n",
      "18\n",
      "====\n",
      "app marketing\tbrand marketing\tcause marketing\tcms\tcontent marketing\tcreative agency\tdigital marketing\tdomain registrar\temail marketing\tfacebook\tgoogle\tgraphic design\tpersonal branding\treputation\tsem\tsemantic search\tseo\tsocial media advertising\tsocial media management\tsocial media marketing\tux design\tweb apps\tweb design\tweb development\tweb hosting\n",
      "19\n",
      "====\n",
      "business development\tbusiness information systems\tgeneration y\tgeneration z\tincubators\tinnovation management\tlocal business\tmanagement information systems\tmillennials\n",
      "20\n",
      "====\n",
      "baby\tcharter schools\tchild care\tchildren\tcontinuing education\tcorporate training\te-learning\tebooks\tedtech\teducation\tedutainment\tfamily\tfirst aid\thigher education\tknowledge management\tlanguage learning\tmooc\tparenting\tpersonal development\tprimary education\treading apps\tsecondary education\tskill assessment\tstem education\tteenagers\ttextbook\ttraining\ttranslation service\ttutoring\tunderserved children\tuniversities\tvocational education\tyoung adults\n",
      "21\n",
      "====\n",
      "application performance management\tarchiving service\tcloud computing\tcloud data services\tcloud infrastructure\tcloud management\tcloud storage\tcollaboration\tdata center\tdata center automation\tdata storage\tdocument management\tdocument preparation\tenterprise\tenterprise applications\tenterprise software\tfile sharing\tflash storage\tiaas\tit infrastructure\tit management\tmeeting software\tpaas\tpresentation software\tprivate cloud\tprocurement\tproductivity tools\tproject management\tsaas\tscheduling\ttask management\tvirtual desktop\tvirtualization\twebos\n",
      "22\n",
      "====\n",
      "auctions\tcollaborative consumption\tcollectibles\tfreelance\tmarketplace\tonline auctions\tonline portals\tpeer to peer\tsharing economy\tweb browsers\n",
      "23\n",
      "====\n",
      "call center\tcommunication hardware\tcommunications infrastructure\temail\tinformation and communications technology (ict)\tisp\tmessaging\tmobile devices\tnetwork hardware\toptical communication\tpublic relations\treal time\tsatellite communication\tsms\ttelecommunications\tunified communications\tvideo chat\tvideo conferencing\tvoip\twired telecommunications\twireless\n",
      "24\n",
      "====\n",
      "computer\thardware\tsoftware\n",
      "25\n",
      "====\n",
      "advice\tconsulting\tintellectual property\tlaw enforcement\tlegal\tlegal tech\tmanagement consulting\tprofessional services\n",
      "26\n",
      "====\n",
      "consumer\tconsumer reviews\tcustomer service\tfield support\tfunerals\thousekeeping service\tjanitorial service\tlaundry and dry-cleaning\tproduct search\tservice industry\ttechnical support\n",
      "27\n",
      "====\n",
      "a/b testing\tbrowser extensions\tconsumer applications\tconsumer software\tdesktop apps\tdeveloper apis\tdeveloper tools\tembedded software\tembedded systems\tlinux\topen source\toperating systems\toutsourcing\tproduct management\tproduct research\tquality assurance\trisc\tsoftware engineering\ttest and measurement\tusability testing\n",
      "28\n",
      "====\n",
      "contact management\tcrm\tdirect marketing\tdirect sales\tenterprise resource planning (erp)\tlead generation\tlead management\tloyalty programs\tmarketing automation\tmulti-level marketing\tpoint of sale\tsales\tsales automation\tsocial crm\n",
      "29\n",
      "====\n",
      "american football\tbaseball\tbasketball\tcasino\tcasual games\tconsole games\tcricket\tcycling\tdeveloper platform\tequestrian\tesports\tfantasy sports\tfreemium\tgambling\tgamification\tgaming\tgolf\thockey\thunting\tmmo games\tnintendo\tonline games\toutdoors\tpc games\tplaystation\tracing\trecreation\trugby\tserious games\tskiing\tsoccer\tsponsorship\tsporting goods\tsports\tsurfing\tswimming\ttable tennis\ttennis\ttoys\tvideo games\tvolley ball\txbox\n",
      "30\n",
      "====\n",
      "concerts\tevent management\tevent promotion\tevents\tmusic venues\tnightclubs\tnightlife\tticketing\ttrade shows\twedding\n",
      "31\n",
      "====\n",
      "adventure travel\tair transportation\tamusement park and arcade\tboating\tbusiness travel\tdiving\tferry service\tflash sale\tguides\thospitality\thotel\tin-flight entertainment\tleisure\tparks\treservations\tresorts\tsailing\ttimeshare\ttour operator\ttourism\ttravel\ttravel accommodations\ttravel agency\tvacation rental\n",
      "32\n",
      "====\n",
      "information services\tinformation technology\n",
      "33\n",
      "====\n",
      "internet\n",
      "34\n",
      "====\n",
      "assistive technology\tgoogle glass\tinternet of things\tnfc\tqr codes\trfid\tsmart building\tsmart cities\tsmart home\twearables\n",
      "35\n",
      "====\n",
      "classifieds\tediscovery\tlocal\tsearch engine\tvertical search\n",
      "36\n",
      "====\n",
      "dating\tlgbt\tonline forums\tprivate social networking\tq&a\tsns\tsocial\tsocial bookmarking\tsocial media\tsocial network\ttwitter\n",
      "37\n",
      "====\n",
      "adult\tsex industry\tsex tech\n"
     ]
    }
   ],
   "source": [
    "#What does this look like?\n",
    "comm_strings = pd.DataFrame(comms,index=['comm']).T.groupby('comm')\n",
    "\n",
    "#This is just to visualise the participation in communities\n",
    "for n,x in enumerate(comm_strings.groups.keys()):\n",
    "    print(n)\n",
    "    print('====')\n",
    "    print('\\t'.join(list(comm_strings.groups[x])))\n",
    "    #print(', '.join(list(x.index())))"
   ]
  },
  {
   "cell_type": "code",
   "execution_count": 66,
   "metadata": {},
   "outputs": [],
   "source": [
    "#Create sector lookup\n",
    "\n",
    "sector_labels = ['industrial','ads','aerospace','food_agriculture','recruitment',\n",
    "'data_analytics','apps','finance','content','construction_real_state',\n",
    "'non_profit','immersive','transport',\n",
    "'b2b','energy','retail_fashion','security','health','marketing','innovation','education',\n",
    "'ict','marketplace_sharing_economy','telecommunications','computing','legal_professional',\n",
    "'consumer_services','software_development','sales','sports','events','travelling','information',\n",
    "'internet','smart_sensors','search','social_networks','adult']\n",
    "\n",
    "#They are in reverse order because I labelled them from below\n",
    "industry_lookup = {n:y for n,y in enumerate(sector_labels[::-1])}"
   ]
  },
  {
   "cell_type": "code",
   "execution_count": 67,
   "metadata": {},
   "outputs": [],
   "source": [
    "#Lookup every category\n",
    "comps_cats['sector_list']= [[industry_lookup[comms[lab]] for lab in cats] for cats in comps_cats['category_name']]"
   ]
  },
  {
   "cell_type": "code",
   "execution_count": 68,
   "metadata": {},
   "outputs": [
    {
     "data": {
      "text/plain": [
       "0                           [legal_professional, adult]\n",
       "1                                   [health, education]\n",
       "2                                           [education]\n",
       "3     [adult, adult, marketplace_sharing_economy, ma...\n",
       "4                                              [events]\n",
       "5                      [non_profit, health, innovation]\n",
       "6     [transport, information, sports, data_analytic...\n",
       "7                         [health, security, education]\n",
       "8              [computing, marketplace_sharing_economy]\n",
       "9                                    [transport, sales]\n",
       "10                                     [data_analytics]\n",
       "11                        [data_analytics, recruitment]\n",
       "12    [information, marketplace_sharing_economy, dat...\n",
       "13    [legal_professional, aerospace, events, recrui...\n",
       "14                         [recruitment, smart_sensors]\n",
       "15                             [data_analytics, energy]\n",
       "16             [transport, marketplace_sharing_economy]\n",
       "17                    [legal_professional, b2b, energy]\n",
       "18                                [data_analytics, ict]\n",
       "19                                 [telecommunications]\n",
       "Name: sector_list, dtype: object"
      ]
     },
     "execution_count": 68,
     "metadata": {},
     "output_type": "execute_result"
    }
   ],
   "source": [
    "comps_cats['sector_list'].head(n=20)"
   ]
  },
  {
   "cell_type": "markdown",
   "metadata": {},
   "source": [
    "There is a lot of overlap between categories - hard to delineate companies into a single category. For now we will perform an analysis that considers all sectors for a company"
   ]
  },
  {
   "cell_type": "code",
   "execution_count": 69,
   "metadata": {},
   "outputs": [],
   "source": [
    "ai_counts = []\n",
    "\n",
    "for sector in set(industry_lookup.values()):\n",
    "    \n",
    "    #Subset the df to find all companies that mention sector\n",
    "    has_sector = comps_cats.loc[[sector in indust for indust in comps_cats['sector_list']]]\n",
    "    \n",
    "    #How many are there?\n",
    "    sector_tot = len(has_sector)\n",
    "    \n",
    "    #How many companies mentioning AI in the category?\n",
    "    ai_tot = has_sector['ai_flag'].sum()\n",
    "    \n",
    "    #Create a series\n",
    "    out = pd.Series([sector_tot,ai_tot],name=sector)\n",
    "    \n",
    "    ai_counts.append(out)\n",
    "    \n",
    "#Create df and label\n",
    "ai_sector_df = pd.concat(ai_counts,axis=1).T\n",
    "ai_sector_df.columns = ['total','ai']\n",
    "\n",
    "#Create a 'share' variable showing the proportion of ai companies in a vertical\n",
    "ai_sector_df['shares'] = 100*(ai_sector_df['ai']/ai_sector_df['total'])"
   ]
  },
  {
   "cell_type": "code",
   "execution_count": 70,
   "metadata": {},
   "outputs": [
    {
     "data": {
      "image/png": "[encoded data removed]",
      "text/plain": [
       "<Figure size 648x360 with 1 Axes>"
      ]
     },
     "metadata": {
      "needs_background": "light"
     },
     "output_type": "display_data"
    }
   ],
   "source": [
    "ax = ai_sector_df.sort_values('shares',ascending=False)['shares'].plot.bar(figsize=(9,5),color='coral',edgecolor='black')\n",
    "ax.set_ylabel('AI companies as \\n % of total',size=14)\n",
    "\n",
    "ax.xaxis.set_tick_params(labelsize=14)\n",
    "ax.set_title('AI representation in CrunchBase verticals',size=14)\n",
    "\n",
    "plt.tight_layout()\n",
    "\n",
    "plt.savefig('/Users/jmateosgarcia/Desktop/company_focus.pdf')"
   ]
  },
  {
   "cell_type": "markdown",
   "metadata": {},
   "source": [
    "How many AI companies in finance in the UK?"
   ]
  },
  {
   "cell_type": "code",
   "execution_count": 71,
   "metadata": {},
   "outputs": [],
   "source": [
    "uk_finance = comps_cats.loc[(comps_cats['country']=='United Kingdom')&(['finance' in x for x in comps_cats['sector_list']])]"
   ]
  },
  {
   "cell_type": "code",
   "execution_count": 72,
   "metadata": {},
   "outputs": [
    {
     "name": "stdout",
     "output_type": "stream",
     "text": [
      "780\n",
      "8\n"
     ]
    }
   ],
   "source": [
    "print(len(uk_finance)) \n",
    "print(uk_finance['ai_flag'].sum())"
   ]
  },
  {
   "cell_type": "markdown",
   "metadata": {},
   "source": [
    "### Final tidy up"
   ]
  },
  {
   "cell_type": "code",
   "execution_count": 73,
   "metadata": {},
   "outputs": [],
   "source": [
    "vars_to_drop = ['permalink','domain','email','phone','facebook_url','linkedin_url','logo_url','is_health','mesh_terms','organization',\n",
    "               'parent_id','organization_id']"
   ]
  },
  {
   "cell_type": "code",
   "execution_count": 74,
   "metadata": {},
   "outputs": [],
   "source": [
    "uk_comps = comps_cats.loc[(comps_cats['country']=='United Kingdom'),[x for x in comps_cats.columns if x not in vars_to_drop]]\n",
    "uk_comps.to_csv(f'{today_str}_cb_uk.csv',compression='gzip')"
   ]
  },
  {
   "cell_type": "markdown",
   "metadata": {},
   "source": [
    "### Create data dictionary"
   ]
  },
  {
   "cell_type": "code",
   "execution_count": 75,
   "metadata": {},
   "outputs": [
    {
     "name": "stdout",
     "output_type": "stream",
     "text": [
      "|name|type|observations|\n",
      "|----|----|----|\n",
      "|id|<class 'str'>|   |\n",
      "|company_name|<class 'str'>|   |\n",
      "|roles|<class 'str'>|   |\n",
      "|homepage_url|<class 'str'>|   |\n",
      "|country|<class 'str'>|   |\n",
      "|state_code|<class 'NoneType'>|   |\n",
      "|region|<class 'str'>|   |\n",
      "|city|<class 'str'>|   |\n",
      "|location_id|<class 'str'>|   |\n",
      "|address|<class 'str'>|   |\n",
      "|status|<class 'str'>|   |\n",
      "|short_description|<class 'str'>|   |\n",
      "|funding_rounds|<class 'numpy.int64'>|   |\n",
      "|funding_total_usd|<class 'numpy.float64'>|   |\n",
      "|founded_on|<class 'pandas._libs.tslib.Timestamp'>|   |\n",
      "|last_funding_on|<class 'pandas._libs.tslib.NaTType'>|   |\n",
      "|closed_on|<class 'pandas._libs.tslib.NaTType'>|   |\n",
      "|employee_count|<class 'str'>|   |\n",
      "|cb_url|<class 'str'>|   |\n",
      "|twitter_url|<class 'NoneType'>|   |\n",
      "|aliases|<class 'NoneType'>|   |\n",
      "|created_at|<class 'pandas._libs.tslib.Timestamp'>|   |\n",
      "|updated_at|<class 'pandas._libs.tslib.Timestamp'>|   |\n",
      "|primary_role|<class 'str'>|   |\n",
      "|type|<class 'str'>|   |\n",
      "|long_description|<class 'float'>|   |\n",
      "|category_name|<class 'list'>|   |\n",
      "|ai_text_n|<class 'numpy.float64'>|   |\n",
      "|ai_cats|<class 'numpy.bool_'>|   |\n",
      "|ai_flag|<class 'numpy.bool_'>|   |\n",
      "|founded_year|<class 'numpy.float64'>|   |\n",
      "|sector_list|<class 'list'>|   |\n"
     ]
    }
   ],
   "source": [
    "print('|name|type|observations|')\n",
    "print('|----|----|----|')\n",
    "\n",
    "for c in uk_comps.columns:\n",
    "    \n",
    "    print(f'|{c}|{type(uk_comps[c].iloc[0])}|   |')"
   ]
  }
 ],
 "metadata": {
  "kernelspec": {
   "display_name": "Python 3",
   "language": "python",
   "name": "python3"
  },
  "language_info": {
   "codemirror_mode": {
    "name": "ipython",
    "version": 3
   },
   "file_extension": ".py",
   "mimetype": "text/x-python",
   "name": "python",
   "nbconvert_exporter": "python",
   "pygments_lexer": "ipython3",
   "version": "3.6.8"
  }
 },
 "nbformat": 4,
 "nbformat_minor": 2
}
